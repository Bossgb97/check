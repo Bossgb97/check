{
 "cells": [
  {
   "cell_type": "markdown",
   "metadata": {},
   "source": [
    "<center>\n",
    "    <b><span style=\"font-size: 1em;\">\n",
    "        EXAMPLES\n",
    "    </span></b>\n",
    "    <br>\n",
    "    <b><span style=\"font-size: 2em;\">\n",
    "        FLOWUnsteady\n",
    "    </span></b>\n",
    "    <br>\n",
    "    <span style=\"font-size: 1em;\">\n",
    "        Last Update: 04/2020\n",
    "    </span>  \n",
    "</center>"
   ]
  },
  {
   "cell_type": "markdown",
   "metadata": {},
   "source": [
    "This document reports the results of the example simulations under [`examples/`](https://github.com/byuflowlab/FLOWUnsteady/tree/master/examples)"
   ]
  },
  {
   "cell_type": "code",
   "execution_count": 1,
   "metadata": {},
   "outputs": [],
   "source": [
    "using PyCall\n",
    "command1 = \"<iframe width=\\\"600\\\" height=\\\"337\\\" src=\\\"https://www.youtube.com/embed/\"\n",
    "command2 = \"?modestbranding=1&autohide=1&showinfo=0&rel=0&controls=1\\\"\n",
    "            frameborder=\\\"0\\\" allow=\\\"autoplay; encrypted-media\\\" \n",
    "            allowfullscreen></iframe>\";"
   ]
  },
  {
   "cell_type": "markdown",
   "metadata": {
    "heading_collapsed": true
   },
   "source": [
    "# Heaving Wing"
   ]
  },
  {
   "cell_type": "markdown",
   "metadata": {
    "hidden": true
   },
   "source": [
    "[`examples/heavingwing.jl`](https://github.com/byuflowlab/FLOWUnsteady/blob/master/examples/heavingwing.jl)\n",
    "\n",
    "Swept wing in heaving motion. This example tests FLOWUnsteady's capacity to capture unsteady aerodynamics."
   ]
  },
  {
   "cell_type": "markdown",
   "metadata": {
    "hidden": true
   },
   "source": [
    "<img src=\"http://edoalvar2.groups.et.byu.net/public/FLOWUnsteady/bertinsheaving00_1and3.gif\" alt=\"Vid here\" width=\"700px\">"
   ]
  },
  {
   "cell_type": "markdown",
   "metadata": {
    "hidden": true
   },
   "source": [
    "<img src=\"img/heavingwing00.png\" alt=\"Pic here\" width=\"600px\">"
   ]
  },
  {
   "cell_type": "markdown",
   "metadata": {
    "hidden": true
   },
   "source": [
    "<img src=\"img/heavingwing02.png\" alt=\"Pic here\" width=\"900px\">"
   ]
  },
  {
   "cell_type": "markdown",
   "metadata": {
    "hidden": true
   },
   "source": [
    "<img src=\"img/heavingwing03.png\" alt=\"Pic here\" width=\"900px\">"
   ]
  },
  {
   "cell_type": "code",
   "execution_count": 3,
   "metadata": {
    "hidden": true,
    "scrolled": true
   },
   "outputs": [
    {
     "data": {
      "text/html": [
       "<iframe width=\"600\" height=\"337\" src=\"https://www.youtube.com/embed/NimSqJWjRAY?modestbranding=1&autohide=1&showinfo=0&rel=0&controls=1\"\n",
       "            frameborder=\"0\" allow=\"autoplay; encrypted-media\" \n",
       "            allowfullscreen></iframe>"
      ],
      "text/plain": [
       "HTML{String}(\"<iframe width=\\\"600\\\" height=\\\"337\\\" src=\\\"https://www.youtube.com/embed/NimSqJWjRAY?modestbranding=1&autohide=1&showinfo=0&rel=0&controls=1\\\"\\n            frameborder=\\\"0\\\" allow=\\\"autoplay; encrypted-media\\\" \\n            allowfullscreen></iframe>\")"
      ]
     },
     "execution_count": 3,
     "metadata": {},
     "output_type": "execute_result"
    }
   ],
   "source": [
    "HTML(command1*\"NimSqJWjRAY\"*command2)"
   ]
  },
  {
   "cell_type": "markdown",
   "metadata": {
    "hidden": true
   },
   "source": [
    "<img src=\"img/heaving00.png\" alt=\"Pic here\" width=\"700px\">"
   ]
  },
  {
   "cell_type": "markdown",
   "metadata": {
    "hidden": true
   },
   "source": [
    "<img src=\"img/heaving01.png\" alt=\"Pic here\" width=\"800px\">"
   ]
  },
  {
   "cell_type": "markdown",
   "metadata": {
    "heading_collapsed": true
   },
   "source": [
    "# Tandem Heaving Wing"
   ]
  },
  {
   "cell_type": "markdown",
   "metadata": {
    "hidden": true
   },
   "source": [
    "[`examples/tandemheavingwing.jl`](https://github.com/byuflowlab/FLOWUnsteady/blob/master/examples/tandemheavingwing.jl)\n",
    "\n",
    "Tandem wing configuration with the front wing in heaving motion shedding a wake that impinges on the back wing. This example tests FLOWUnsteady's capacity to capture wing-on-wing interactions."
   ]
  },
  {
   "cell_type": "code",
   "execution_count": 4,
   "metadata": {
    "hidden": true,
    "scrolled": true
   },
   "outputs": [
    {
     "data": {
      "text/html": [
       "<iframe width=\"600\" height=\"337\" src=\"https://www.youtube.com/embed/Pch94bKpjrQ?modestbranding=1&autohide=1&showinfo=0&rel=0&controls=1\"\n",
       "            frameborder=\"0\" allow=\"autoplay; encrypted-media\" \n",
       "            allowfullscreen></iframe>"
      ],
      "text/plain": [
       "HTML{String}(\"<iframe width=\\\"600\\\" height=\\\"337\\\" src=\\\"https://www.youtube.com/embed/Pch94bKpjrQ?modestbranding=1&autohide=1&showinfo=0&rel=0&controls=1\\\"\\n            frameborder=\\\"0\\\" allow=\\\"autoplay; encrypted-media\\\" \\n            allowfullscreen></iframe>\")"
      ]
     },
     "execution_count": 4,
     "metadata": {},
     "output_type": "execute_result"
    }
   ],
   "source": [
    "HTML(command1*\"Pch94bKpjrQ\"*command2)"
   ]
  },
  {
   "cell_type": "markdown",
   "metadata": {
    "hidden": true
   },
   "source": [
    "<img src=\"img/tandemheaving00.png\" alt=\"Pic here\" width=\"900px\">"
   ]
  },
  {
   "cell_type": "markdown",
   "metadata": {
    "hidden": true
   },
   "source": [
    "<img src=\"img/tandemheaving01.png\" alt=\"Pic here\" width=\"800px\">"
   ]
  },
  {
   "cell_type": "markdown",
   "metadata": {
    "heading_collapsed": true
   },
   "source": [
    "# Cross-wind Circular Path"
   ]
  },
  {
   "cell_type": "markdown",
   "metadata": {
    "hidden": true
   },
   "source": [
    "[`examples/circularpath.jl`](https://github.com/byuflowlab/FLOWUnsteady/blob/master/examples/circularpath.jl)\n",
    "\n",
    "Swept wing in a circular path under cross wind perpendicular to the plane of rotation. This example tests FLOWUnsteady's capacity to capture unsteady aerodynamics."
   ]
  },
  {
   "cell_type": "markdown",
   "metadata": {
    "hidden": true
   },
   "source": [
    "<img src=\"http://edoalvar2.groups.et.byu.net/public/FLOWUnsteady/circularpath03_1and2.gif\" alt=\"Vid here\" width=\"700px\">"
   ]
  },
  {
   "cell_type": "markdown",
   "metadata": {
    "hidden": true
   },
   "source": [
    "<img src=\"img/circularpath03.png\" alt=\"Pic here\" width=\"600px\">"
   ]
  },
  {
   "cell_type": "markdown",
   "metadata": {
    "hidden": true
   },
   "source": [
    "<img src=\"img/circularpath03_2.png\" alt=\"Pic here\" width=\"600px\">"
   ]
  },
  {
   "cell_type": "markdown",
   "metadata": {
    "hidden": true
   },
   "source": [
    "Notice that the lift coefficient oscillates because I hard-coded it to be taken from force in the $y$-direction."
   ]
  },
  {
   "cell_type": "markdown",
   "metadata": {
    "hidden": true
   },
   "source": [
    "<img src=\"img/circlesim.jpg\" alt=\"Pic here\" width=\"600px\">"
   ]
  },
  {
   "cell_type": "markdown",
   "metadata": {
    "heading_collapsed": true
   },
   "source": [
    "# Blown Wing"
   ]
  },
  {
   "cell_type": "markdown",
   "metadata": {
    "hidden": true
   },
   "source": [
    "[`examples/blownwing/`](https://github.com/byuflowlab/FLOWUnsteady/blob/master/examples/blownwing)\n",
    "\n",
    "Swept wing with two propellers. This example tests FLOWUnsteady's capacity to capture rotor-on-wing and wing-on-rotor aerodynamic and aeroacoustic interactions."
   ]
  },
  {
   "cell_type": "code",
   "execution_count": 5,
   "metadata": {
    "hidden": true,
    "scrolled": true
   },
   "outputs": [
    {
     "data": {
      "text/html": [
       "<iframe width=\"600\" height=\"337\" src=\"https://www.youtube.com/embed/3REcIdIXrZA?modestbranding=1&autohide=1&showinfo=0&rel=0&controls=1\"\n",
       "            frameborder=\"0\" allow=\"autoplay; encrypted-media\" \n",
       "            allowfullscreen></iframe>"
      ],
      "text/plain": [
       "HTML{String}(\"<iframe width=\\\"600\\\" height=\\\"337\\\" src=\\\"https://www.youtube.com/embed/3REcIdIXrZA?modestbranding=1&autohide=1&showinfo=0&rel=0&controls=1\\\"\\n            frameborder=\\\"0\\\" allow=\\\"autoplay; encrypted-media\\\" \\n            allowfullscreen></iframe>\")"
      ]
     },
     "execution_count": 5,
     "metadata": {},
     "output_type": "execute_result"
    }
   ],
   "source": [
    "HTML(command1*\"3REcIdIXrZA\"*command2)"
   ]
  },
  {
   "cell_type": "markdown",
   "metadata": {
    "heading_collapsed": true
   },
   "source": [
    "# Wind-harvesting Aircraft"
   ]
  },
  {
   "cell_type": "code",
   "execution_count": 4,
   "metadata": {
    "hidden": true,
    "scrolled": true
   },
   "outputs": [
    {
     "data": {
      "text/html": [
       "<iframe width=\"600\" height=\"337\" src=\"https://www.youtube.com/embed/iFM3B4_N2Ls?modestbranding=1&autohide=1&showinfo=0&rel=0&controls=1\"\n",
       "            frameborder=\"0\" allow=\"autoplay; encrypted-media\" \n",
       "            allowfullscreen></iframe>"
      ],
      "text/plain": [
       "HTML{String}(\"<iframe width=\\\"600\\\" height=\\\"337\\\" src=\\\"https://www.youtube.com/embed/iFM3B4_N2Ls?modestbranding=1&autohide=1&showinfo=0&rel=0&controls=1\\\"\\n            frameborder=\\\"0\\\" allow=\\\"autoplay; encrypted-media\\\" \\n            allowfullscreen></iframe>\")"
      ]
     },
     "execution_count": 4,
     "metadata": {},
     "output_type": "execute_result"
    }
   ],
   "source": [
    "HTML(command1*\"iFM3B4_N2Ls\"*command2)"
   ]
  },
  {
   "cell_type": "markdown",
   "metadata": {
    "heading_collapsed": true
   },
   "source": [
    "# eVTOL Transition"
   ]
  },
  {
   "cell_type": "markdown",
   "metadata": {
    "hidden": true
   },
   "source": [
    "**Maneuver definition**"
   ]
  },
  {
   "cell_type": "code",
   "execution_count": 2,
   "metadata": {
    "hidden": true,
    "scrolled": true
   },
   "outputs": [
    {
     "data": {
      "text/html": [
       "<iframe width=\"600\" height=\"337\" src=\"https://www.youtube.com/embed/-xTHvwIe_34?modestbranding=1&autohide=1&showinfo=0&rel=0&controls=1\"\n",
       "            frameborder=\"0\" allow=\"autoplay; encrypted-media\" \n",
       "            allowfullscreen></iframe>"
      ],
      "text/plain": [
       "HTML{String}(\"<iframe width=\\\"600\\\" height=\\\"337\\\" src=\\\"https://www.youtube.com/embed/-xTHvwIe_34?modestbranding=1&autohide=1&showinfo=0&rel=0&controls=1\\\"\\n            frameborder=\\\"0\\\" allow=\\\"autoplay; encrypted-media\\\" \\n            allowfullscreen></iframe>\")"
      ]
     },
     "execution_count": 2,
     "metadata": {},
     "output_type": "execute_result"
    }
   ],
   "source": [
    "HTML(command1*\"-xTHvwIe_34\"*command2)"
   ]
  },
  {
   "cell_type": "markdown",
   "metadata": {
    "hidden": true
   },
   "source": [
    "**Rotor-on-rotor interactions**"
   ]
  },
  {
   "cell_type": "code",
   "execution_count": 3,
   "metadata": {
    "hidden": true,
    "scrolled": true
   },
   "outputs": [
    {
     "data": {
      "text/html": [
       "<iframe width=\"600\" height=\"337\" src=\"https://www.youtube.com/embed/f_AkQW37zqs?modestbranding=1&autohide=1&showinfo=0&rel=0&controls=1\"\n",
       "            frameborder=\"0\" allow=\"autoplay; encrypted-media\" \n",
       "            allowfullscreen></iframe>"
      ],
      "text/plain": [
       "HTML{String}(\"<iframe width=\\\"600\\\" height=\\\"337\\\" src=\\\"https://www.youtube.com/embed/f_AkQW37zqs?modestbranding=1&autohide=1&showinfo=0&rel=0&controls=1\\\"\\n            frameborder=\\\"0\\\" allow=\\\"autoplay; encrypted-media\\\" \\n            allowfullscreen></iframe>\")"
      ]
     },
     "execution_count": 3,
     "metadata": {},
     "output_type": "execute_result"
    }
   ],
   "source": [
    "HTML(command1*\"f_AkQW37zqs\"*command2)"
   ]
  },
  {
   "cell_type": "markdown",
   "metadata": {
    "heading_collapsed": true
   },
   "source": [
    "# Rotor Aeroacoustics"
   ]
  },
  {
   "cell_type": "markdown",
   "metadata": {
    "hidden": true
   },
   "source": [
    "See this notebook for more details and validation on rotor noise: [`examples/rotornoise/singlerotor.ipynb`](https://nbviewer.jupyter.org/github/byuflowlab/FLOWUnsteady/blob/master/examples/rotornoise/singlerotor.ipynb)"
   ]
  },
  {
   "cell_type": "markdown",
   "metadata": {
    "hidden": true
   },
   "source": [
    "**Single-rotor**"
   ]
  },
  {
   "cell_type": "markdown",
   "metadata": {
    "hidden": true
   },
   "source": [
    "<img src=\"http://edoalvar2.groups.et.byu.net/public/FLOWUnsteady/dji9443_ccblade01_1.gif\" alt=\"Vid here\" width=\"700px\">"
   ]
  },
  {
   "cell_type": "markdown",
   "metadata": {
    "hidden": true
   },
   "source": [
    "**Multirotor interactions**"
   ]
  },
  {
   "cell_type": "markdown",
   "metadata": {
    "hidden": true
   },
   "source": [
    "<img src=\"http://edoalvar2.groups.et.byu.net/public/FLOWUnsteady/val_piv_multi16_005D_99_1_noise1_cropped00.gif\" alt=\"Vid here\" width=\"400px\">"
   ]
  },
  {
   "cell_type": "markdown",
   "metadata": {
    "hidden": true
   },
   "source": [
    "<img src=\"http://edoalvar2.groups.et.byu.net/public/FLOWUnsteady/cfdnoise_ningdji_multi_005D_03_15.gif\" alt=\"Vid here\" width=\"700px\">"
   ]
  },
  {
   "cell_type": "markdown",
   "metadata": {
    "hidden": true
   },
   "source": [
    "<img src=\"http://edoalvar2.groups.et.byu.net/public/FLOWUnsteady/cfdnoise_ningdji_multi_005D_03_18.gif\" alt=\"Vid here\" width=\"900px\">"
   ]
  }
 ],
 "metadata": {
  "hide_input": false,
  "kernelspec": {
   "display_name": "Julia 0.6.4",
   "language": "julia",
   "name": "julia-0.6"
  },
  "language_info": {
   "file_extension": ".jl",
   "mimetype": "application/julia",
   "name": "julia",
   "version": "0.6.4"
  }
 },
 "nbformat": 4,
 "nbformat_minor": 4
}
